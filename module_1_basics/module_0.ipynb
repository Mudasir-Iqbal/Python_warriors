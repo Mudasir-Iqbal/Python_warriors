{
 "cells": [
  {
   "cell_type": "markdown",
   "id": "5754cf1a",
   "metadata": {},
   "source": [
    "# Python Basics (Foundations for Everything)"
   ]
  },
  {
   "cell_type": "markdown",
   "id": "36192724",
   "metadata": {},
   "source": [
    "## 1. Variables & Data Types"
   ]
  },
  {
   "cell_type": "code",
   "execution_count": 1,
   "id": "d7f227a3",
   "metadata": {},
   "outputs": [
    {
     "name": "stdout",
     "output_type": "stream",
     "text": [
      "Mudasir 22 True\n"
     ]
    }
   ],
   "source": [
    "name = \"Mudasir\"\n",
    "age = 22\n",
    "is_developer = True\n",
    "\n",
    "print(name, age, is_developer)\n"
   ]
  },
  {
   "cell_type": "markdown",
   "id": "28b7a68b",
   "metadata": {},
   "source": [
    "| Type    | Example      |\n",
    "| ------- | ------------ |\n",
    "| `int`   | 5            |\n",
    "| `float` | 5.3          |\n",
    "| `str`   | \"Guardian\"   |\n",
    "| `bool`  | True / False |\n"
   ]
  },
  {
   "cell_type": "markdown",
   "id": "712ddce2",
   "metadata": {},
   "source": [
    "## 2. User Input"
   ]
  },
  {
   "cell_type": "code",
   "execution_count": 3,
   "id": "2aa4c150",
   "metadata": {},
   "outputs": [
    {
     "name": "stdout",
     "output_type": "stream",
     "text": [
      "Welcome, mudasir\n"
     ]
    }
   ],
   "source": [
    "name = input(\"Enter your name: \")\n",
    "print(\"Welcome,\", name)"
   ]
  },
  {
   "cell_type": "markdown",
   "id": "e59c8c39",
   "metadata": {},
   "source": [
    "## 3. Operators"
   ]
  },
  {
   "cell_type": "code",
   "execution_count": 4,
   "id": "17021b43",
   "metadata": {},
   "outputs": [
    {
     "name": "stdout",
     "output_type": "stream",
     "text": [
      "7\n",
      "25\n"
     ]
    }
   ],
   "source": [
    "a = 5\n",
    "b = 2\n",
    "print(a + b)  # 7\n",
    "print(a ** b) # 25 (Power)"
   ]
  },
  {
   "cell_type": "markdown",
   "id": "79f4abea",
   "metadata": {},
   "source": [
    "## 4. Conditional Statements (If-Else)"
   ]
  },
  {
   "cell_type": "code",
   "execution_count": 5,
   "id": "ace31269",
   "metadata": {},
   "outputs": [
    {
     "name": "stdout",
     "output_type": "stream",
     "text": [
      "You are an adult\n"
     ]
    }
   ],
   "source": [
    "age = int(input(\"Enter your age: \"))\n",
    "if age < 18:\n",
    "    print(\"You are underage\")\n",
    "else:\n",
    "    print(\"You are an adult\")"
   ]
  },
  {
   "cell_type": "markdown",
   "id": "0be17534",
   "metadata": {},
   "source": [
    "## 5. Loops"
   ]
  },
  {
   "cell_type": "code",
   "execution_count": 6,
   "id": "d8f03c62",
   "metadata": {},
   "outputs": [
    {
     "name": "stdout",
     "output_type": "stream",
     "text": [
      "Cry count: 0\n",
      "Cry count: 1\n",
      "Cry count: 2\n",
      "Cry count: 3\n",
      "Cry count: 4\n",
      "Monitoring...\n",
      "Monitoring...\n",
      "Monitoring...\n"
     ]
    }
   ],
   "source": [
    "# For loop\n",
    "for i in range(5):\n",
    "    print(\"Cry count:\", i)\n",
    "\n",
    "# While loop\n",
    "count = 0\n",
    "while count < 3:\n",
    "    print(\"Monitoring...\")\n",
    "    count += 1\n"
   ]
  },
  {
   "cell_type": "markdown",
   "id": "501bb422",
   "metadata": {},
   "source": [
    "## 6. Practice Mini Task (GuardianAI Starter)\n",
    "Q: Write a Python program that:\n",
    "\n",
    "Takes baby’s name and age as input\n",
    "\n",
    "Prints: \"Monitoring [Name], aged [Age] months\""
   ]
  },
  {
   "cell_type": "code",
   "execution_count": 7,
   "id": "f8fe0c1c",
   "metadata": {},
   "outputs": [
    {
     "name": "stdout",
     "output_type": "stream",
     "text": [
      "Monitoring mudasir aged 12 months\n"
     ]
    }
   ],
   "source": [
    "name = input(\"Enter baby’s name: \")\n",
    "age = input(\"Enter baby’s age (in months): \")\n",
    "print(\"Monitoring\", name, \"aged\", age, \"months\")\n"
   ]
  }
 ],
 "metadata": {
  "kernelspec": {
   "display_name": "Python 3",
   "language": "python",
   "name": "python3"
  },
  "language_info": {
   "codemirror_mode": {
    "name": "ipython",
    "version": 3
   },
   "file_extension": ".py",
   "mimetype": "text/x-python",
   "name": "python",
   "nbconvert_exporter": "python",
   "pygments_lexer": "ipython3",
   "version": "3.10.11"
  }
 },
 "nbformat": 4,
 "nbformat_minor": 5
}
