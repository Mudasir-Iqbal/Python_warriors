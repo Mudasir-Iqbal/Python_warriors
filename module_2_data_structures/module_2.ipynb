{
 "cells": [
  {
   "cell_type": "markdown",
   "id": "827b06c3",
   "metadata": {},
   "source": [
    "# MODULE 2: Data Structures – Lists, Dictionaries, Strings & More"
   ]
  },
  {
   "cell_type": "markdown",
   "id": "057e6e6f",
   "metadata": {},
   "source": [
    "## 1. Lists – Collection of items (ordered, changeable)"
   ]
  },
  {
   "cell_type": "code",
   "execution_count": 4,
   "id": "ada533bc",
   "metadata": {},
   "outputs": [
    {
     "name": "stdout",
     "output_type": "stream",
     "text": [
      "crying\n",
      "['crying', 'sleeping', 'smiling', 'crawling']\n"
     ]
    }
   ],
   "source": [
    "baby_activities = [\"crying\", \"sleeping\", \"smiling\"]\n",
    "print(baby_activities[0])     # Output: crying\n",
    "\n",
    "baby_activities.append(\"crawling\")\n",
    "print(baby_activities)        # Output: ['crying', 'sleeping', 'smiling', 'crawling']\n"
   ]
  },
  {
   "cell_type": "markdown",
   "id": "b6479902",
   "metadata": {},
   "source": [
    "✅ Common List Methods:\n",
    "Method\tUse\n",
    "append()\tAdd item at end\n",
    "remove()\tRemove item\n",
    "pop()\tRemove by index\n",
    "len()\tList length\n",
    "sort() / reverse()\tSorting"
   ]
  },
  {
   "cell_type": "markdown",
   "id": "25204b7e",
   "metadata": {},
   "source": [
    "## 2. Tuples – Like lists, but immutable"
   ]
  },
  {
   "cell_type": "code",
   "execution_count": 5,
   "id": "ff7f19e5",
   "metadata": {},
   "outputs": [
    {
     "name": "stdout",
     "output_type": "stream",
     "text": [
      "on_back\n"
     ]
    }
   ],
   "source": [
    "baby_pose = (\"lying\", \"on_back\")\n",
    "print(baby_pose[1])  # Output: on_back\n",
    "# Use when you want fixed values (pose labels, bounding box sizes, etc.)"
   ]
  },
  {
   "cell_type": "markdown",
   "id": "2a0c7229",
   "metadata": {},
   "source": [
    "## 3. Dictionaries (dict) – Key-Value pairs"
   ]
  },
  {
   "cell_type": "code",
   "execution_count": 6,
   "id": "4eeaec69",
   "metadata": {},
   "outputs": [
    {
     "name": "stdout",
     "output_type": "stream",
     "text": [
      "Ayaan\n"
     ]
    }
   ],
   "source": [
    "baby_data = {\n",
    "    \"name\": \"Ayaan\",\n",
    "    \"age\": 6,\n",
    "    \"status\": \"sleeping\"\n",
    "}\n",
    "\n",
    "print(baby_data[\"name\"])         # Output: Ayaan\n",
    "baby_data[\"status\"] = \"crying\"   # Update value\n"
   ]
  },
  {
   "cell_type": "markdown",
   "id": "8915040d",
   "metadata": {},
   "source": [
    "### Common Dict Use-Cases in FYP:\n",
    "Logging camera data\n",
    "\n",
    "Storing intruder info: {\"time\": \"10:30 PM\", \"location\": \"Room A\"}\n",
    "\n",
    "Cry detection log: {\"sound_level\": 80, \"timestamp\": \"12:01AM\"}\n",
    "\n"
   ]
  },
  {
   "cell_type": "markdown",
   "id": "99f17779",
   "metadata": {},
   "source": [
    "## 4. Sets – Unique unordered values"
   ]
  },
  {
   "cell_type": "code",
   "execution_count": 7,
   "id": "4ffa61e9",
   "metadata": {},
   "outputs": [
    {
     "name": "stdout",
     "output_type": "stream",
     "text": [
      "{'Ali', 'Ahmed'}\n"
     ]
    }
   ],
   "source": [
    "intruders = {\"Ali\", \"Ahmed\", \"Ali\"}\n",
    "print(intruders)   # Output: {'Ali', 'Ahmed'}\n"
   ]
  },
  {
   "cell_type": "markdown",
   "id": "fa118c9e",
   "metadata": {},
   "source": [
    "Use sets to filter duplicates, like:\n",
    "\n",
    "Unique devices detected\n",
    "\n",
    "Unique face IDs"
   ]
  },
  {
   "cell_type": "markdown",
   "id": "679ba67b",
   "metadata": {},
   "source": [
    "##  5. Strings – Text data"
   ]
  },
  {
   "cell_type": "code",
   "execution_count": 8,
   "id": "9124d068",
   "metadata": {},
   "outputs": [
    {
     "name": "stdout",
     "output_type": "stream",
     "text": [
      "BABY IS SLEEPING\n",
      "['Baby', 'is', 'sleeping']\n"
     ]
    }
   ],
   "source": [
    "msg = \"Baby is sleeping\"\n",
    "print(msg.upper())      # BABY IS SLEEPING\n",
    "print(msg.split())      # ['Baby', 'is', 'sleeping']"
   ]
  },
  {
   "cell_type": "code",
   "execution_count": 9,
   "id": "a96f46b8",
   "metadata": {},
   "outputs": [
    {
     "name": "stdout",
     "output_type": "stream",
     "text": [
      "⚠️ Alert: Ayaan is currently CRYING!\n"
     ]
    }
   ],
   "source": [
    "name = \"Ayaan\"\n",
    "activity = \"crying\"\n",
    "alert = f\"⚠️ Alert: {name} is currently {activity.upper()}!\"\n",
    "print(alert)"
   ]
  },
  {
   "cell_type": "markdown",
   "id": "9eeb4830",
   "metadata": {},
   "source": [
    "## 6. Mini Task – Real FYP Use-Case"
   ]
  },
  {
   "cell_type": "markdown",
   "id": "2c32816a",
   "metadata": {},
   "source": [
    "### Problem:\n",
    "Store 3 events detected by camera with timestamp and status, then print summary."
   ]
  },
  {
   "cell_type": "code",
   "execution_count": 10,
   "id": "b7250cb4",
   "metadata": {},
   "outputs": [
    {
     "name": "stdout",
     "output_type": "stream",
     "text": [
      "At 10:00 AM, baby was Sleeping\n",
      "At 10:05 AM, baby was Crying\n",
      "At 10:10 AM, baby was Sitting\n"
     ]
    }
   ],
   "source": [
    "log = []\n",
    "\n",
    "log.append({\"time\": \"10:00 AM\", \"status\": \"Sleeping\"})\n",
    "log.append({\"time\": \"10:05 AM\", \"status\": \"Crying\"})\n",
    "log.append({\"time\": \"10:10 AM\", \"status\": \"Sitting\"})\n",
    "\n",
    "for entry in log:\n",
    "    print(f\"At {entry['time']}, baby was {entry['status']}\")\n"
   ]
  },
  {
   "cell_type": "markdown",
   "id": "62d50dba",
   "metadata": {},
   "source": [
    "# Practice Homework:"
   ]
  },
  {
   "cell_type": "markdown",
   "id": "85256231",
   "metadata": {},
   "source": [
    "1. Make a list of 5 baby actions.\n",
    "\n",
    "2. Create a dictionary with baby's:\n",
    "\n",
    "    Name\n",
    "    Age\n",
    "    Last 3 activities (as list)\n",
    "\n",
    "3. Format and print a full baby status alert."
   ]
  }
 ],
 "metadata": {
  "kernelspec": {
   "display_name": "Python 3",
   "language": "python",
   "name": "python3"
  },
  "language_info": {
   "codemirror_mode": {
    "name": "ipython",
    "version": 3
   },
   "file_extension": ".py",
   "mimetype": "text/x-python",
   "name": "python",
   "nbconvert_exporter": "python",
   "pygments_lexer": "ipython3",
   "version": "3.10.11"
  }
 },
 "nbformat": 4,
 "nbformat_minor": 5
}
